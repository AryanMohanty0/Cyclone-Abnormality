{
  "nbformat": 4,
  "nbformat_minor": 0,
  "metadata": {
    "colab": {
      "provenance": [],
      "authorship_tag": "ABX9TyMZf0l42sx7u5mvUQ2DVHYc",
      "include_colab_link": true
    },
    "kernelspec": {
      "name": "python3",
      "display_name": "Python 3"
    },
    "language_info": {
      "name": "python"
    }
  },
  "cells": [
    {
      "cell_type": "markdown",
      "metadata": {
        "id": "view-in-github",
        "colab_type": "text"
      },
      "source": [
        "<a href=\"https://colab.research.google.com/github/AryanMohanty0/Cyclone-Abnormality/blob/main/algo.ipynb\" target=\"_parent\"><img src=\"https://colab.research.google.com/assets/colab-badge.svg\" alt=\"Open In Colab\"/></a>"
      ]
    },
    {
      "cell_type": "code",
      "execution_count": 1,
      "metadata": {
        "colab": {
          "base_uri": "https://localhost:8080/"
        },
        "id": "is6ZMmHM8nEn",
        "outputId": "72ccfd2f-acc7-4499-c980-2912134d758d"
      },
      "outputs": [
        {
          "output_type": "stream",
          "name": "stdout",
          "text": [
            "Collecting panda\n",
            "  Downloading panda-0.3.1.tar.gz (5.8 kB)\n",
            "  Preparing metadata (setup.py) ... \u001b[?25l\u001b[?25hdone\n",
            "Requirement already satisfied: numpy in /usr/local/lib/python3.11/dist-packages (2.0.2)\n",
            "Requirement already satisfied: scikit-learn in /usr/local/lib/python3.11/dist-packages (1.6.1)\n",
            "Requirement already satisfied: matplotlib in /usr/local/lib/python3.11/dist-packages (3.10.0)\n",
            "Requirement already satisfied: scipy in /usr/local/lib/python3.11/dist-packages (1.16.1)\n",
            "Collecting ruptures\n",
            "  Downloading ruptures-1.1.9-cp311-cp311-manylinux_2_17_x86_64.manylinux2014_x86_64.whl.metadata (7.2 kB)\n",
            "Requirement already satisfied: setuptools in /usr/local/lib/python3.11/dist-packages (from panda) (75.2.0)\n",
            "Requirement already satisfied: requests in /usr/local/lib/python3.11/dist-packages (from panda) (2.32.3)\n",
            "Requirement already satisfied: joblib>=1.2.0 in /usr/local/lib/python3.11/dist-packages (from scikit-learn) (1.5.1)\n",
            "Requirement already satisfied: threadpoolctl>=3.1.0 in /usr/local/lib/python3.11/dist-packages (from scikit-learn) (3.6.0)\n",
            "Requirement already satisfied: contourpy>=1.0.1 in /usr/local/lib/python3.11/dist-packages (from matplotlib) (1.3.3)\n",
            "Requirement already satisfied: cycler>=0.10 in /usr/local/lib/python3.11/dist-packages (from matplotlib) (0.12.1)\n",
            "Requirement already satisfied: fonttools>=4.22.0 in /usr/local/lib/python3.11/dist-packages (from matplotlib) (4.59.0)\n",
            "Requirement already satisfied: kiwisolver>=1.3.1 in /usr/local/lib/python3.11/dist-packages (from matplotlib) (1.4.9)\n",
            "Requirement already satisfied: packaging>=20.0 in /usr/local/lib/python3.11/dist-packages (from matplotlib) (25.0)\n",
            "Requirement already satisfied: pillow>=8 in /usr/local/lib/python3.11/dist-packages (from matplotlib) (11.3.0)\n",
            "Requirement already satisfied: pyparsing>=2.3.1 in /usr/local/lib/python3.11/dist-packages (from matplotlib) (3.2.3)\n",
            "Requirement already satisfied: python-dateutil>=2.7 in /usr/local/lib/python3.11/dist-packages (from matplotlib) (2.9.0.post0)\n",
            "Requirement already satisfied: six>=1.5 in /usr/local/lib/python3.11/dist-packages (from python-dateutil>=2.7->matplotlib) (1.17.0)\n",
            "Requirement already satisfied: charset-normalizer<4,>=2 in /usr/local/lib/python3.11/dist-packages (from requests->panda) (3.4.3)\n",
            "Requirement already satisfied: idna<4,>=2.5 in /usr/local/lib/python3.11/dist-packages (from requests->panda) (3.10)\n",
            "Requirement already satisfied: urllib3<3,>=1.21.1 in /usr/local/lib/python3.11/dist-packages (from requests->panda) (2.5.0)\n",
            "Requirement already satisfied: certifi>=2017.4.17 in /usr/local/lib/python3.11/dist-packages (from requests->panda) (2025.8.3)\n",
            "Downloading ruptures-1.1.9-cp311-cp311-manylinux_2_17_x86_64.manylinux2014_x86_64.whl (1.3 MB)\n",
            "\u001b[2K   \u001b[90m━━━━━━━━━━━━━━━━━━━━━━━━━━━━━━━━━━━━━━━━\u001b[0m \u001b[32m1.3/1.3 MB\u001b[0m \u001b[31m15.0 MB/s\u001b[0m eta \u001b[36m0:00:00\u001b[0m\n",
            "\u001b[?25hBuilding wheels for collected packages: panda\n",
            "  Building wheel for panda (setup.py) ... \u001b[?25l\u001b[?25hdone\n",
            "  Created wheel for panda: filename=panda-0.3.1-py3-none-any.whl size=7239 sha256=b0d35ccbfec5786e32113e21f5788bf24f33580a38ccd0ea37d05bb95eb9b1fa\n",
            "  Stored in directory: /root/.cache/pip/wheels/df/5c/39/36f8dae25a1e88d6ec4411dec4a143781e64fdff6897758eec\n",
            "Successfully built panda\n",
            "Installing collected packages: ruptures, panda\n",
            "Successfully installed panda-0.3.1 ruptures-1.1.9\n"
          ]
        }
      ],
      "source": [
        "pip install panda numpy scikit-learn matplotlib scipy ruptures"
      ]
    },
    {
      "cell_type": "code",
      "source": [
        "#1)\n",
        "import pandas as pd\n",
        "import numpy as np\n",
        "import matplotlib.pyplot as plt\n",
        "import matplotlib.image as mpimg\n",
        "from sklearn.ensemble import IsolationForest\n",
        "import ruptures as rpt\n",
        "import os\n",
        "import argparse\n",
        "from datetime import timedelta"
      ],
      "metadata": {
        "id": "8DK-s_10-0SH"
      },
      "execution_count": 2,
      "outputs": []
    },
    {
      "cell_type": "code",
      "source": [
        "from google.colab import drive\n",
        "drive.mount('/content/drive')\n",
        "PATH = '/content/drive/MyDrive/data (5) (1) (1) (1) (1)(internship-data-1).csv'\n",
        "if os.path.exists(PATH):\n",
        "    print(\"File exists\")\n",
        "    df = pd.read_csv(PATH)\n",
        "    print(\"csv file loaded successfully\")\n",
        "else:\n",
        "    print(\"File does not exist\")\n",
        "\n",
        "\n",
        "csv_path = '/content/drive/MyDrive/data (5) (1) (1) (1) (1)(internship-data-1).csv'\n",
        "outdir =  '/content/drive/MyDrive/algo8_output'"
      ],
      "metadata": {
        "colab": {
          "base_uri": "https://localhost:8080/"
        },
        "id": "bBywCXbjUR3O",
        "outputId": "e1d999c7-b468-470c-8736-9049656ed0af"
      },
      "execution_count": 3,
      "outputs": [
        {
          "output_type": "stream",
          "name": "stdout",
          "text": [
            "Mounted at /content/drive\n",
            "File exists\n",
            "csv file loaded successfully\n"
          ]
        }
      ]
    },
    {
      "cell_type": "markdown",
      "source": [],
      "metadata": {
        "id": "s9-EPoYGByYq"
      }
    },
    {
      "cell_type": "code",
      "source": [
        "#3)\n",
        "os.makedirs(outdir, exist_ok = True)  #os.makedirs() would throw an error (FileExistsError) if the folder already exists.\n",
        "                                      #exist_ok=True → \"It’s okay if the folder already exists, don’t raise an error.\""
      ],
      "metadata": {
        "id": "w4_GG79xQSX9"
      },
      "execution_count": 4,
      "outputs": []
    },
    {
      "cell_type": "code",
      "source": [
        "#4)\n",
        "df = pd.read_csv(csv_path, low_memory=False) #low_memory = False ensures Pandas will read the whole column before deciding the type.\n",
        "                                            #This uses a bit more memory, but ensures more accurate and consistent dtype detection.\n",
        "                                            #low_memory = True is default uses less memory so starts guessing datatypes of column without reading it entirely"
      ],
      "metadata": {
        "id": "unroFlVOQWvk"
      },
      "execution_count": 5,
      "outputs": []
    },
    {
      "cell_type": "code",
      "source": [
        "#5)\n",
        "df['time'] = pd.to_datetime(df['time'], errors='coerce',infer_datetime_format=True)"
      ],
      "metadata": {
        "id": "QiwOBUmMQfE-",
        "colab": {
          "base_uri": "https://localhost:8080/"
        },
        "outputId": "de8cf856-7d77-482a-d8cf-0eb03f6e2fb2"
      },
      "execution_count": 6,
      "outputs": [
        {
          "output_type": "stream",
          "name": "stderr",
          "text": [
            "/tmp/ipython-input-227100992.py:2: UserWarning: The argument 'infer_datetime_format' is deprecated and will be removed in a future version. A strict version of it is now the default, see https://pandas.pydata.org/pdeps/0004-consistent-to-datetime-parsing.html. You can safely remove this argument.\n",
            "  df['time'] = pd.to_datetime(df['time'], errors='coerce',infer_datetime_format=True)\n"
          ]
        }
      ]
    },
    {
      "cell_type": "code",
      "source": [
        "#6)\n",
        "value_cols = [c for c in df.columns if c != 'time']\n",
        "for c in value_cols:\n",
        "  df[c] = pd.to_numeric(\n",
        "      df[c].astype(str).str.replace(',','').str.strip(),\n",
        "      errors='coerce'\n",
        "  )"
      ],
      "metadata": {
        "id": "qpKblXAJWduq"
      },
      "execution_count": 7,
      "outputs": []
    },
    {
      "cell_type": "code",
      "source": [
        "#7)\n",
        "df = df.dropna(subset=['time']).sort_values('time').set_index('time')"
      ],
      "metadata": {
        "id": "63OEBUyBYVJ6"
      },
      "execution_count": 8,
      "outputs": []
    },
    {
      "cell_type": "code",
      "source": [
        "#8)\n",
        "window = 12\n",
        "df_5m = df.resample('5min').mean()\n",
        "df_5m = df_5m.interpolate(method='time',limit=int(window),limit_direction='both')\n",
        "print(\"data is prepared after resampling:\", df_5m.shape)\n",
        "df_5m.head()"
      ],
      "metadata": {
        "colab": {
          "base_uri": "https://localhost:8080/",
          "height": 448
        },
        "id": "zqTR5LbAZoUp",
        "outputId": "59351c70-8230-4467-c773-200428306734"
      },
      "execution_count": 9,
      "outputs": [
        {
          "output_type": "stream",
          "name": "stdout",
          "text": [
            "data is prepared after resampling: (378580, 6)\n"
          ]
        },
        {
          "output_type": "execute_result",
          "data": {
            "text/plain": [
              "                     Cyclone_Inlet_Gas_Temp  Cyclone_Material_Temp  \\\n",
              "time                                                                 \n",
              "2017-01-01 00:00:00                  867.63                 910.42   \n",
              "2017-01-01 00:05:00                  879.23                 918.14   \n",
              "2017-01-01 00:10:00                  875.67                 924.18   \n",
              "2017-01-01 00:15:00                  875.28                 923.15   \n",
              "2017-01-01 00:20:00                  891.66                 934.26   \n",
              "\n",
              "                     Cyclone_Outlet_Gas_draft  Cyclone_cone_draft  \\\n",
              "time                                                                \n",
              "2017-01-01 00:00:00                   -189.54             -186.04   \n",
              "2017-01-01 00:05:00                   -184.33             -182.10   \n",
              "2017-01-01 00:10:00                   -181.26             -166.47   \n",
              "2017-01-01 00:15:00                   -179.15             -174.83   \n",
              "2017-01-01 00:20:00                   -178.32             -173.72   \n",
              "\n",
              "                     Cyclone_Gas_Outlet_Temp  Cyclone_Inlet_Draft  \n",
              "time                                                               \n",
              "2017-01-01 00:00:00                   852.13              -145.90  \n",
              "2017-01-01 00:05:00                   862.53              -149.76  \n",
              "2017-01-01 00:10:00                   866.06              -145.01  \n",
              "2017-01-01 00:15:00                   865.85              -142.82  \n",
              "2017-01-01 00:20:00                   876.06              -143.39  "
            ],
            "text/html": [
              "\n",
              "  <div id=\"df-79bb01f4-59ad-4fed-89cd-f83315fc8a98\" class=\"colab-df-container\">\n",
              "    <div>\n",
              "<style scoped>\n",
              "    .dataframe tbody tr th:only-of-type {\n",
              "        vertical-align: middle;\n",
              "    }\n",
              "\n",
              "    .dataframe tbody tr th {\n",
              "        vertical-align: top;\n",
              "    }\n",
              "\n",
              "    .dataframe thead th {\n",
              "        text-align: right;\n",
              "    }\n",
              "</style>\n",
              "<table border=\"1\" class=\"dataframe\">\n",
              "  <thead>\n",
              "    <tr style=\"text-align: right;\">\n",
              "      <th></th>\n",
              "      <th>Cyclone_Inlet_Gas_Temp</th>\n",
              "      <th>Cyclone_Material_Temp</th>\n",
              "      <th>Cyclone_Outlet_Gas_draft</th>\n",
              "      <th>Cyclone_cone_draft</th>\n",
              "      <th>Cyclone_Gas_Outlet_Temp</th>\n",
              "      <th>Cyclone_Inlet_Draft</th>\n",
              "    </tr>\n",
              "    <tr>\n",
              "      <th>time</th>\n",
              "      <th></th>\n",
              "      <th></th>\n",
              "      <th></th>\n",
              "      <th></th>\n",
              "      <th></th>\n",
              "      <th></th>\n",
              "    </tr>\n",
              "  </thead>\n",
              "  <tbody>\n",
              "    <tr>\n",
              "      <th>2017-01-01 00:00:00</th>\n",
              "      <td>867.63</td>\n",
              "      <td>910.42</td>\n",
              "      <td>-189.54</td>\n",
              "      <td>-186.04</td>\n",
              "      <td>852.13</td>\n",
              "      <td>-145.90</td>\n",
              "    </tr>\n",
              "    <tr>\n",
              "      <th>2017-01-01 00:05:00</th>\n",
              "      <td>879.23</td>\n",
              "      <td>918.14</td>\n",
              "      <td>-184.33</td>\n",
              "      <td>-182.10</td>\n",
              "      <td>862.53</td>\n",
              "      <td>-149.76</td>\n",
              "    </tr>\n",
              "    <tr>\n",
              "      <th>2017-01-01 00:10:00</th>\n",
              "      <td>875.67</td>\n",
              "      <td>924.18</td>\n",
              "      <td>-181.26</td>\n",
              "      <td>-166.47</td>\n",
              "      <td>866.06</td>\n",
              "      <td>-145.01</td>\n",
              "    </tr>\n",
              "    <tr>\n",
              "      <th>2017-01-01 00:15:00</th>\n",
              "      <td>875.28</td>\n",
              "      <td>923.15</td>\n",
              "      <td>-179.15</td>\n",
              "      <td>-174.83</td>\n",
              "      <td>865.85</td>\n",
              "      <td>-142.82</td>\n",
              "    </tr>\n",
              "    <tr>\n",
              "      <th>2017-01-01 00:20:00</th>\n",
              "      <td>891.66</td>\n",
              "      <td>934.26</td>\n",
              "      <td>-178.32</td>\n",
              "      <td>-173.72</td>\n",
              "      <td>876.06</td>\n",
              "      <td>-143.39</td>\n",
              "    </tr>\n",
              "  </tbody>\n",
              "</table>\n",
              "</div>\n",
              "    <div class=\"colab-df-buttons\">\n",
              "\n",
              "  <div class=\"colab-df-container\">\n",
              "    <button class=\"colab-df-convert\" onclick=\"convertToInteractive('df-79bb01f4-59ad-4fed-89cd-f83315fc8a98')\"\n",
              "            title=\"Convert this dataframe to an interactive table.\"\n",
              "            style=\"display:none;\">\n",
              "\n",
              "  <svg xmlns=\"http://www.w3.org/2000/svg\" height=\"24px\" viewBox=\"0 -960 960 960\">\n",
              "    <path d=\"M120-120v-720h720v720H120Zm60-500h600v-160H180v160Zm220 220h160v-160H400v160Zm0 220h160v-160H400v160ZM180-400h160v-160H180v160Zm440 0h160v-160H620v160ZM180-180h160v-160H180v160Zm440 0h160v-160H620v160Z\"/>\n",
              "  </svg>\n",
              "    </button>\n",
              "\n",
              "  <style>\n",
              "    .colab-df-container {\n",
              "      display:flex;\n",
              "      gap: 12px;\n",
              "    }\n",
              "\n",
              "    .colab-df-convert {\n",
              "      background-color: #E8F0FE;\n",
              "      border: none;\n",
              "      border-radius: 50%;\n",
              "      cursor: pointer;\n",
              "      display: none;\n",
              "      fill: #1967D2;\n",
              "      height: 32px;\n",
              "      padding: 0 0 0 0;\n",
              "      width: 32px;\n",
              "    }\n",
              "\n",
              "    .colab-df-convert:hover {\n",
              "      background-color: #E2EBFA;\n",
              "      box-shadow: 0px 1px 2px rgba(60, 64, 67, 0.3), 0px 1px 3px 1px rgba(60, 64, 67, 0.15);\n",
              "      fill: #174EA6;\n",
              "    }\n",
              "\n",
              "    .colab-df-buttons div {\n",
              "      margin-bottom: 4px;\n",
              "    }\n",
              "\n",
              "    [theme=dark] .colab-df-convert {\n",
              "      background-color: #3B4455;\n",
              "      fill: #D2E3FC;\n",
              "    }\n",
              "\n",
              "    [theme=dark] .colab-df-convert:hover {\n",
              "      background-color: #434B5C;\n",
              "      box-shadow: 0px 1px 3px 1px rgba(0, 0, 0, 0.15);\n",
              "      filter: drop-shadow(0px 1px 2px rgba(0, 0, 0, 0.3));\n",
              "      fill: #FFFFFF;\n",
              "    }\n",
              "  </style>\n",
              "\n",
              "    <script>\n",
              "      const buttonEl =\n",
              "        document.querySelector('#df-79bb01f4-59ad-4fed-89cd-f83315fc8a98 button.colab-df-convert');\n",
              "      buttonEl.style.display =\n",
              "        google.colab.kernel.accessAllowed ? 'block' : 'none';\n",
              "\n",
              "      async function convertToInteractive(key) {\n",
              "        const element = document.querySelector('#df-79bb01f4-59ad-4fed-89cd-f83315fc8a98');\n",
              "        const dataTable =\n",
              "          await google.colab.kernel.invokeFunction('convertToInteractive',\n",
              "                                                    [key], {});\n",
              "        if (!dataTable) return;\n",
              "\n",
              "        const docLinkHtml = 'Like what you see? Visit the ' +\n",
              "          '<a target=\"_blank\" href=https://colab.research.google.com/notebooks/data_table.ipynb>data table notebook</a>'\n",
              "          + ' to learn more about interactive tables.';\n",
              "        element.innerHTML = '';\n",
              "        dataTable['output_type'] = 'display_data';\n",
              "        await google.colab.output.renderOutput(dataTable, element);\n",
              "        const docLink = document.createElement('div');\n",
              "        docLink.innerHTML = docLinkHtml;\n",
              "        element.appendChild(docLink);\n",
              "      }\n",
              "    </script>\n",
              "  </div>\n",
              "\n",
              "\n",
              "    <div id=\"df-732e13f3-fe30-4f33-bd57-8b6e43724a1a\">\n",
              "      <button class=\"colab-df-quickchart\" onclick=\"quickchart('df-732e13f3-fe30-4f33-bd57-8b6e43724a1a')\"\n",
              "                title=\"Suggest charts\"\n",
              "                style=\"display:none;\">\n",
              "\n",
              "<svg xmlns=\"http://www.w3.org/2000/svg\" height=\"24px\"viewBox=\"0 0 24 24\"\n",
              "     width=\"24px\">\n",
              "    <g>\n",
              "        <path d=\"M19 3H5c-1.1 0-2 .9-2 2v14c0 1.1.9 2 2 2h14c1.1 0 2-.9 2-2V5c0-1.1-.9-2-2-2zM9 17H7v-7h2v7zm4 0h-2V7h2v10zm4 0h-2v-4h2v4z\"/>\n",
              "    </g>\n",
              "</svg>\n",
              "      </button>\n",
              "\n",
              "<style>\n",
              "  .colab-df-quickchart {\n",
              "      --bg-color: #E8F0FE;\n",
              "      --fill-color: #1967D2;\n",
              "      --hover-bg-color: #E2EBFA;\n",
              "      --hover-fill-color: #174EA6;\n",
              "      --disabled-fill-color: #AAA;\n",
              "      --disabled-bg-color: #DDD;\n",
              "  }\n",
              "\n",
              "  [theme=dark] .colab-df-quickchart {\n",
              "      --bg-color: #3B4455;\n",
              "      --fill-color: #D2E3FC;\n",
              "      --hover-bg-color: #434B5C;\n",
              "      --hover-fill-color: #FFFFFF;\n",
              "      --disabled-bg-color: #3B4455;\n",
              "      --disabled-fill-color: #666;\n",
              "  }\n",
              "\n",
              "  .colab-df-quickchart {\n",
              "    background-color: var(--bg-color);\n",
              "    border: none;\n",
              "    border-radius: 50%;\n",
              "    cursor: pointer;\n",
              "    display: none;\n",
              "    fill: var(--fill-color);\n",
              "    height: 32px;\n",
              "    padding: 0;\n",
              "    width: 32px;\n",
              "  }\n",
              "\n",
              "  .colab-df-quickchart:hover {\n",
              "    background-color: var(--hover-bg-color);\n",
              "    box-shadow: 0 1px 2px rgba(60, 64, 67, 0.3), 0 1px 3px 1px rgba(60, 64, 67, 0.15);\n",
              "    fill: var(--button-hover-fill-color);\n",
              "  }\n",
              "\n",
              "  .colab-df-quickchart-complete:disabled,\n",
              "  .colab-df-quickchart-complete:disabled:hover {\n",
              "    background-color: var(--disabled-bg-color);\n",
              "    fill: var(--disabled-fill-color);\n",
              "    box-shadow: none;\n",
              "  }\n",
              "\n",
              "  .colab-df-spinner {\n",
              "    border: 2px solid var(--fill-color);\n",
              "    border-color: transparent;\n",
              "    border-bottom-color: var(--fill-color);\n",
              "    animation:\n",
              "      spin 1s steps(1) infinite;\n",
              "  }\n",
              "\n",
              "  @keyframes spin {\n",
              "    0% {\n",
              "      border-color: transparent;\n",
              "      border-bottom-color: var(--fill-color);\n",
              "      border-left-color: var(--fill-color);\n",
              "    }\n",
              "    20% {\n",
              "      border-color: transparent;\n",
              "      border-left-color: var(--fill-color);\n",
              "      border-top-color: var(--fill-color);\n",
              "    }\n",
              "    30% {\n",
              "      border-color: transparent;\n",
              "      border-left-color: var(--fill-color);\n",
              "      border-top-color: var(--fill-color);\n",
              "      border-right-color: var(--fill-color);\n",
              "    }\n",
              "    40% {\n",
              "      border-color: transparent;\n",
              "      border-right-color: var(--fill-color);\n",
              "      border-top-color: var(--fill-color);\n",
              "    }\n",
              "    60% {\n",
              "      border-color: transparent;\n",
              "      border-right-color: var(--fill-color);\n",
              "    }\n",
              "    80% {\n",
              "      border-color: transparent;\n",
              "      border-right-color: var(--fill-color);\n",
              "      border-bottom-color: var(--fill-color);\n",
              "    }\n",
              "    90% {\n",
              "      border-color: transparent;\n",
              "      border-bottom-color: var(--fill-color);\n",
              "    }\n",
              "  }\n",
              "</style>\n",
              "\n",
              "      <script>\n",
              "        async function quickchart(key) {\n",
              "          const quickchartButtonEl =\n",
              "            document.querySelector('#' + key + ' button');\n",
              "          quickchartButtonEl.disabled = true;  // To prevent multiple clicks.\n",
              "          quickchartButtonEl.classList.add('colab-df-spinner');\n",
              "          try {\n",
              "            const charts = await google.colab.kernel.invokeFunction(\n",
              "                'suggestCharts', [key], {});\n",
              "          } catch (error) {\n",
              "            console.error('Error during call to suggestCharts:', error);\n",
              "          }\n",
              "          quickchartButtonEl.classList.remove('colab-df-spinner');\n",
              "          quickchartButtonEl.classList.add('colab-df-quickchart-complete');\n",
              "        }\n",
              "        (() => {\n",
              "          let quickchartButtonEl =\n",
              "            document.querySelector('#df-732e13f3-fe30-4f33-bd57-8b6e43724a1a button');\n",
              "          quickchartButtonEl.style.display =\n",
              "            google.colab.kernel.accessAllowed ? 'block' : 'none';\n",
              "        })();\n",
              "      </script>\n",
              "    </div>\n",
              "\n",
              "    </div>\n",
              "  </div>\n"
            ],
            "application/vnd.google.colaboratory.intrinsic+json": {
              "type": "dataframe",
              "variable_name": "df_5m"
            }
          },
          "metadata": {},
          "execution_count": 9
        }
      ]
    },
    {
      "cell_type": "code",
      "source": [
        "#9)\n",
        "eps = 1e-9\n",
        "med = df_5m.rolling(window = window, center=True, min_periods=max(6,window//2)).median()\n",
        "mad = (df_5m - med).abs().rolling(window = window, center=True, min_periods=max(6,window//2)).median()\n",
        "robust_z = 0.6745 * (df_5m - med) / (mad + eps)\n"
      ],
      "metadata": {
        "id": "XYCXAUKhhxX8"
      },
      "execution_count": 10,
      "outputs": []
    },
    {
      "cell_type": "code",
      "source": [
        "#10)\n",
        "score = robust_z.abs().max(axis=1).rename(\"anomaly_score\")\n",
        "print(\"z_score values are computed. Score shaped:\", score.shape)\n",
        "score.head()"
      ],
      "metadata": {
        "colab": {
          "base_uri": "https://localhost:8080/",
          "height": 289
        },
        "id": "DeIKChKZl_Mq",
        "outputId": "99ab31e3-d5b3-4086-ad70-26a98c0a2c77"
      },
      "execution_count": 11,
      "outputs": [
        {
          "output_type": "stream",
          "name": "stdout",
          "text": [
            "z_score values are computed. Score shaped: (378580,)\n"
          ]
        },
        {
          "output_type": "execute_result",
          "data": {
            "text/plain": [
              "time\n",
              "2017-01-01 00:00:00    2.523549\n",
              "2017-01-01 00:05:00    0.862109\n",
              "2017-01-01 00:10:00    1.676495\n",
              "2017-01-01 00:15:00    1.518448\n",
              "2017-01-01 00:20:00    1.869180\n",
              "Freq: 5min, Name: anomaly_score, dtype: float64"
            ],
            "text/html": [
              "<div>\n",
              "<style scoped>\n",
              "    .dataframe tbody tr th:only-of-type {\n",
              "        vertical-align: middle;\n",
              "    }\n",
              "\n",
              "    .dataframe tbody tr th {\n",
              "        vertical-align: top;\n",
              "    }\n",
              "\n",
              "    .dataframe thead th {\n",
              "        text-align: right;\n",
              "    }\n",
              "</style>\n",
              "<table border=\"1\" class=\"dataframe\">\n",
              "  <thead>\n",
              "    <tr style=\"text-align: right;\">\n",
              "      <th></th>\n",
              "      <th>anomaly_score</th>\n",
              "    </tr>\n",
              "    <tr>\n",
              "      <th>time</th>\n",
              "      <th></th>\n",
              "    </tr>\n",
              "  </thead>\n",
              "  <tbody>\n",
              "    <tr>\n",
              "      <th>2017-01-01 00:00:00</th>\n",
              "      <td>2.523549</td>\n",
              "    </tr>\n",
              "    <tr>\n",
              "      <th>2017-01-01 00:05:00</th>\n",
              "      <td>0.862109</td>\n",
              "    </tr>\n",
              "    <tr>\n",
              "      <th>2017-01-01 00:10:00</th>\n",
              "      <td>1.676495</td>\n",
              "    </tr>\n",
              "    <tr>\n",
              "      <th>2017-01-01 00:15:00</th>\n",
              "      <td>1.518448</td>\n",
              "    </tr>\n",
              "    <tr>\n",
              "      <th>2017-01-01 00:20:00</th>\n",
              "      <td>1.869180</td>\n",
              "    </tr>\n",
              "  </tbody>\n",
              "</table>\n",
              "</div><br><label><b>dtype:</b> float64</label>"
            ]
          },
          "metadata": {},
          "execution_count": 11
        }
      ]
    },
    {
      "cell_type": "code",
      "source": [
        "#11)\n",
        "threshold = 5.0\n",
        "flags = score > threshold"
      ],
      "metadata": {
        "id": "TKSTxGsWmRjR"
      },
      "execution_count": 12,
      "outputs": []
    },
    {
      "cell_type": "code",
      "source": [
        "#12)\n",
        "merge_gap_minutes = 60\n",
        "anom_times = score.index[flags]\n",
        "intervals = []\n",
        "\n",
        "if len(anom_times) > 0:\n",
        "  start = anom_times[0]\n",
        "  prev = anom_times[0]\n",
        "\n",
        "  for t in anom_times[1:]:\n",
        "    if (t - prev) <= pd.Timedelta(minutes=merge_gap_minutes):\n",
        "      prev = t\n",
        "    else:\n",
        "      #close off the previous interval\n",
        "      seg = score.loc[start:prev]\n",
        "      intervals.append(dict(\n",
        "        start_time = start,\n",
        "        end_time = prev,\n",
        "        duration_minutes = int((prev - start).total_seconds() // 60)+5,\n",
        "        n_points = int(seg.size),\n",
        "        peak_score = float(seg.max()),\n",
        "      ))\n",
        "      #start a new interval\n",
        "      start = t\n",
        "      prev = t\n",
        "  #add the last interval\n",
        "  seg = score.loc[start:prev]\n",
        "  intervals.append(dict(\n",
        "        start_time = start,\n",
        "        end_time = prev,\n",
        "        duration_minutes = int((prev - start).total_seconds() // 60)+5,\n",
        "        n_points = int(seg.size),\n",
        "        peak_score = float(seg.max()),\n",
        "      ))\n",
        "#put results into a dataframe\n",
        "intervals_df = pd.DataFrame(intervals)"
      ],
      "metadata": {
        "id": "0qeheIronM2N"
      },
      "execution_count": 13,
      "outputs": []
    },
    {
      "cell_type": "code",
      "source": [
        "#13)\n",
        "os.makedirs(outdir, exist_ok=True)\n",
        "score_path = os.path.join(outdir, 'anomaly_score.csv')\n",
        "intervals_path = os.path.join(outdir, 'abnormals_periods.csv')\n",
        "pd.concat([df_5m, score], axis = 1).to_csv(score_path, index=True)\n",
        "intervals_df.to_csv(intervals_path)"
      ],
      "metadata": {
        "id": "V1JmJ6lIs0nJ"
      },
      "execution_count": 14,
      "outputs": []
    },
    {
      "cell_type": "code",
      "source": [
        "#14)\n",
        "plt.figure(figsize=(12,4))\n",
        "score.plot()\n",
        "plt.axhline(threshold, color='red', linestyle='--', label=f\"Threshold = {threshold}\")\n",
        "plt.title(\"Anomaly score over time (robust rolling MAD)\")\n",
        "plt.xlabel(\"Time\")\n",
        "plt.ylabel(\"Score\")\n",
        "plt.legend()\n",
        "plt.tight_layout()\n",
        "\n",
        "plot_path = os.path.join(outdir, \"anomaly_score_plot.png\")\n",
        "plt.savefig(plot_path, dpi=150)\n",
        "plt.close()\n",
        "print(\"save anomaly scores in:{score_path}\")\n",
        "print(\"save anomaly plot in:{plot_path}\")"
      ],
      "metadata": {
        "colab": {
          "base_uri": "https://localhost:8080/"
        },
        "id": "qCiAET7nvNFP",
        "outputId": "91c9d140-5348-4421-ad11-c9f1bbd55ea3"
      },
      "execution_count": 15,
      "outputs": [
        {
          "output_type": "stream",
          "name": "stdout",
          "text": [
            "save anomaly scores in:{score_path}\n",
            "save anomaly plot in:{plot_path}\n"
          ]
        }
      ]
    },
    {
      "cell_type": "code",
      "source": [
        "img = mpimg.imread(plot_path)\n",
        "plt.figure(figsize=(12,6))\n",
        "plt.imshow(img)\n",
        "plt.axis(\"off\")\n",
        "plt.title(\"anomaly score plot\", fontsize = 15)\n",
        "plt.show()"
      ],
      "metadata": {
        "colab": {
          "base_uri": "https://localhost:8080/",
          "height": 371
        },
        "id": "4Ga4YcrFy_CX",
        "outputId": "b9bf38eb-7261-4157-b359-7235c2919d01"
      },
      "execution_count": 16,
      "outputs": [
        {
          "output_type": "display_data",
          "data": {
            "text/plain": [
              "<Figure size 1200x600 with 1 Axes>"
            ],
            "image/png": "[encoded data removed]"
          },
          "metadata": {}
        }
      ]
    }
  ]
}